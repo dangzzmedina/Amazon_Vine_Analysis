{
  "nbformat": 4,
  "nbformat_minor": 0,
  "metadata": {
    "colab": {
      "name": "Vine_Review_Analysis.ipynb",
      "provenance": [],
      "collapsed_sections": [],
      "include_colab_link": true
    },
    "kernelspec": {
      "display_name": "Python 3",
      "name": "python3"
    },
    "language_info": {
      "name": "python"
    },
    "nteract": {
      "version": "0.12.3"
    }
  },
  "cells": [
    {
      "cell_type": "markdown",
      "metadata": {
        "id": "view-in-github",
        "colab_type": "text"
      },
      "source": [
        "<a href=\"https://colab.research.google.com/github/dangzzmedina/Amazon_Vine_Analysis/blob/main/Vine_Review_Analysis.ipynb\" target=\"_parent\"><img src=\"https://colab.research.google.com/assets/colab-badge.svg\" alt=\"Open In Colab\"/></a>"
      ]
    },
    {
      "cell_type": "code",
      "metadata": {
        "colab": {
          "base_uri": "https://localhost:8080/"
        },
        "id": "V58rxea0HqSa",
        "outputId": "a739d1e4-2399-493f-aef0-a1811a2d5e42"
      },
      "source": [
        "import os\n",
        "# Find the latest version of spark 3.0 from http://www.apache.org/dist/spark/ and enter as the spark version\n",
        "# For example:\n",
        "# spark_version = 'spark-3.0.3'\n",
        "spark_version = 'spark-3.0.3'\n",
        "os.environ['SPARK_VERSION']=spark_version\n",
        "\n",
        "# Install Spark and Java\n",
        "!apt-get update\n",
        "!apt-get install openjdk-11-jdk-headless -qq > /dev/null\n",
        "!wget -q http://www.apache.org/dist/spark/$SPARK_VERSION/$SPARK_VERSION-bin-hadoop2.7.tgz\n",
        "!tar xf $SPARK_VERSION-bin-hadoop2.7.tgz\n",
        "!pip install -q findspark\n",
        "\n",
        "# Set Environment Variables\n",
        "import os\n",
        "os.environ[\"JAVA_HOME\"] = \"/usr/lib/jvm/java-11-openjdk-amd64\"\n",
        "os.environ[\"SPARK_HOME\"] = f\"/content/{spark_version}-bin-hadoop2.7\"\n",
        "\n",
        "# Start a SparkSession\n",
        "import findspark\n",
        "findspark.init()"
      ],
      "execution_count": 1,
      "outputs": [
        {
          "output_type": "stream",
          "name": "stdout",
          "text": [
            "\r0% [Working]\r            \rIgn:1 https://developer.download.nvidia.com/compute/cuda/repos/ubuntu1804/x86_64  InRelease\n",
            "Get:2 https://cloud.r-project.org/bin/linux/ubuntu bionic-cran40/ InRelease [3,626 B]\n",
            "Ign:3 https://developer.download.nvidia.com/compute/machine-learning/repos/ubuntu1804/x86_64  InRelease\n",
            "Get:4 https://developer.download.nvidia.com/compute/cuda/repos/ubuntu1804/x86_64  Release [696 B]\n",
            "Hit:5 https://developer.download.nvidia.com/compute/machine-learning/repos/ubuntu1804/x86_64  Release\n",
            "Get:6 https://developer.download.nvidia.com/compute/cuda/repos/ubuntu1804/x86_64  Release.gpg [836 B]\n",
            "Get:7 http://security.ubuntu.com/ubuntu bionic-security InRelease [88.7 kB]\n",
            "Get:8 http://ppa.launchpad.net/c2d4u.team/c2d4u4.0+/ubuntu bionic InRelease [15.9 kB]\n",
            "Hit:9 http://archive.ubuntu.com/ubuntu bionic InRelease\n",
            "Get:10 http://archive.ubuntu.com/ubuntu bionic-updates InRelease [88.7 kB]\n",
            "Hit:11 http://ppa.launchpad.net/cran/libgit2/ubuntu bionic InRelease\n",
            "Hit:13 http://ppa.launchpad.net/deadsnakes/ppa/ubuntu bionic InRelease\n",
            "Get:14 https://developer.download.nvidia.com/compute/cuda/repos/ubuntu1804/x86_64  Packages [700 kB]\n",
            "Get:15 http://archive.ubuntu.com/ubuntu bionic-backports InRelease [74.6 kB]\n",
            "Hit:16 http://ppa.launchpad.net/graphics-drivers/ppa/ubuntu bionic InRelease\n",
            "Get:17 http://security.ubuntu.com/ubuntu bionic-security/main amd64 Packages [2,295 kB]\n",
            "Get:18 http://ppa.launchpad.net/c2d4u.team/c2d4u4.0+/ubuntu bionic/main Sources [1,796 kB]\n",
            "Get:19 http://ppa.launchpad.net/c2d4u.team/c2d4u4.0+/ubuntu bionic/main amd64 Packages [919 kB]\n",
            "Fetched 5,983 kB in 4s (1,487 kB/s)\n",
            "Reading package lists... Done\n"
          ]
        }
      ]
    },
    {
      "cell_type": "code",
      "metadata": {
        "colab": {
          "base_uri": "https://localhost:8080/"
        },
        "id": "_xKwTpATHqSe",
        "outputId": "ed5b13b9-e952-45a3-f113-951f33e94fa8"
      },
      "source": [
        "# Download the Postgres driver that will allow Spark to interact with Postgres.\n",
        "!wget https://jdbc.postgresql.org/download/postgresql-42.2.16.jar"
      ],
      "execution_count": 2,
      "outputs": [
        {
          "output_type": "stream",
          "name": "stdout",
          "text": [
            "--2021-09-06 19:51:24--  https://jdbc.postgresql.org/download/postgresql-42.2.16.jar\n",
            "Resolving jdbc.postgresql.org (jdbc.postgresql.org)... 72.32.157.228, 2001:4800:3e1:1::228\n",
            "Connecting to jdbc.postgresql.org (jdbc.postgresql.org)|72.32.157.228|:443... connected.\n",
            "HTTP request sent, awaiting response... 200 OK\n",
            "Length: 1002883 (979K) [application/java-archive]\n",
            "Saving to: ‘postgresql-42.2.16.jar’\n",
            "\n",
            "postgresql-42.2.16. 100%[===================>] 979.38K  6.02MB/s    in 0.2s    \n",
            "\n",
            "2021-09-06 19:51:25 (6.02 MB/s) - ‘postgresql-42.2.16.jar’ saved [1002883/1002883]\n",
            "\n"
          ]
        }
      ]
    },
    {
      "cell_type": "code",
      "metadata": {
        "id": "MMqDAjVS0KN9"
      },
      "source": [
        "from pyspark.sql import SparkSession\n",
        "spark = SparkSession.builder.appName(\"M16-Amazon-Challenge\").config(\"spark.driver.extraClassPath\",\"/content/postgresql-42.2.16.jar\").getOrCreate()"
      ],
      "execution_count": 3,
      "outputs": []
    },
    {
      "cell_type": "markdown",
      "metadata": {
        "id": "cyBsySGuY-9V"
      },
      "source": [
        "### Load Amazon Data into Spark DataFrame"
      ]
    },
    {
      "cell_type": "code",
      "metadata": {
        "colab": {
          "base_uri": "https://localhost:8080/"
        },
        "id": "CtCmBhQJY-9Z",
        "outputId": "63dd5425-9c7b-40ac-cf75-f813e1095df6"
      },
      "source": [
        "from pyspark import SparkFiles\n",
        "url = \"https://s3.amazonaws.com/amazon-reviews-pds/tsv/amazon_reviews_us_Video_Games_v1_00.tsv.gz\"\n",
        "spark.sparkContext.addFile(url)\n",
        "df = spark.read.option(\"encoding\", \"UTF-8\").csv(SparkFiles.get(\"\"), sep=\"\\t\", header=True, inferSchema=True)\n",
        "df.show()"
      ],
      "execution_count": 4,
      "outputs": [
        {
          "output_type": "stream",
          "name": "stdout",
          "text": [
            "+-----------+-----------+--------------+----------+--------------+--------------------+----------------+-----------+-------------+-----------+----+-----------------+--------------------+--------------------+-----------+\n",
            "|marketplace|customer_id|     review_id|product_id|product_parent|       product_title|product_category|star_rating|helpful_votes|total_votes|vine|verified_purchase|     review_headline|         review_body|review_date|\n",
            "+-----------+-----------+--------------+----------+--------------+--------------------+----------------+-----------+-------------+-----------+----+-----------------+--------------------+--------------------+-----------+\n",
            "|         US|   12039526| RTIS3L2M1F5SM|B001CXYMFS|     737716809|Thrustmaster T-Fl...|     Video Games|          5|            0|          0|   N|                Y|an amazing joysti...|Used this for Eli...| 2015-08-31|\n",
            "|         US|    9636577| R1ZV7R40OLHKD|B00M920ND6|     569686175|Tonsee 6 buttons ...|     Video Games|          5|            0|          0|   N|                Y|Definitely a sile...|Loved it,  I didn...| 2015-08-31|\n",
            "|         US|    2331478|R3BH071QLH8QMC|B0029CSOD2|      98937668|Hidden Mysteries:...|     Video Games|          1|            0|          1|   N|                Y|            One Star|poor quality work...| 2015-08-31|\n",
            "|         US|   52495923|R127K9NTSXA2YH|B00GOOSV98|      23143350|GelTabz Performan...|     Video Games|          3|            0|          0|   N|                Y|good, but could b...|nice, but tend to...| 2015-08-31|\n",
            "|         US|   14533949|R32ZWUXDJPW27Q|B00Y074JOM|     821342511|Zero Suit Samus a...|     Video Games|          4|            0|          0|   N|                Y|   Great but flawed.|Great amiibo, gre...| 2015-08-31|\n",
            "|         US|    2377552|R3AQQ4YUKJWBA6|B002UBI6W6|     328764615|Psyclone Recharge...|     Video Games|          1|            0|          0|   N|                Y|            One Star|The remote consta...| 2015-08-31|\n",
            "|         US|   17521011|R2F0POU5K6F73F|B008XHCLFO|      24234603|Protection for yo...|     Video Games|          5|            0|          0|   N|                Y|              A Must|I have a 2012-201...| 2015-08-31|\n",
            "|         US|   19676307|R3VNR804HYSMR6|B00BRA9R6A|     682267517|   Nerf 3DS XL Armor|     Video Games|          5|            0|          0|   N|                Y|          Five Stars|Perfect, kids lov...| 2015-08-31|\n",
            "|         US|     224068| R3GZTM72WA2QH|B009EPWJLA|     435241890|One Piece: Pirate...|     Video Games|          5|            0|          0|   N|                Y|          Five Stars|            Excelent| 2015-08-31|\n",
            "|         US|   48467989| RNQOY62705W1K|B0000AV7GB|     256572651|Playstation 2 Dan...|     Video Games|          4|            0|          0|   N|                Y|          Four Stars|Slippery but expe...| 2015-08-31|\n",
            "|         US|     106569|R1VTIA3JTYBY02|B00008KTNN|     384411423|Metal Arms: Glitc...|     Video Games|          5|            0|          0|   N|                N|          Five Stars|Love the game. Se...| 2015-08-31|\n",
            "|         US|   48269642|R29DOU8791QZL8|B000A3IA0Y|     472622859|72 Pin Connector ...|     Video Games|          1|            0|          0|   N|                Y| Game will get stuck|Does not fit prop...| 2015-08-31|\n",
            "|         US|   52738710|R15DUT1VIJ9RJZ|B0053BQN34|     577628462|uDraw Gametablet ...|     Video Games|          2|            0|          0|   N|                Y|We have tried it ...|This was way too ...| 2015-08-31|\n",
            "|         US|   10556786|R3IMF2MQ3OU9ZM|B002I0HIMI|     988218515|NBA 2K12(Covers M...|     Video Games|          4|            0|          0|   N|                Y|          Four Stars|Works great good ...| 2015-08-31|\n",
            "|         US|    2963837|R23H79DHOZTYAU|B0081EH12M|     770100932|New Trigger Grips...|     Video Games|          1|            1|          1|   N|                Y|Now i have to buy...|It did not fit th...| 2015-08-31|\n",
            "|         US|   23092109| RIV24EQAIXA4O|B005FMLZQQ|      24647669|Xbox 360 Media Re...|     Video Games|          5|            0|          0|   N|                Y|          Five Stars|perfect lightweig...| 2015-08-31|\n",
            "|         US|   23091728|R3UCNGYDVN24YB|B002BSA388|      33706205|Super Mario Galaxy 2|     Video Games|          5|            0|          0|   N|                Y|          Five Stars|               great| 2015-08-31|\n",
            "|         US|   10712640| RUL4H4XTTN2DY|B00BUSLSAC|     829667834|Nintendo 3DS XL -...|     Video Games|          5|            0|          0|   N|                Y|          Five Stars|Works beautifully...| 2015-08-31|\n",
            "|         US|   17455376|R20JF7Z4DHTNX5|B00KWF38AW|     110680188|Captain Toad:  Tr...|     Video Games|          5|            0|          0|   N|                Y|          Five Stars|Kids loved the ga...| 2015-08-31|\n",
            "|         US|   14754850|R2T1AJ5MFI2260|B00BRQJYA8|     616463426|Lego Batman 2: DC...|     Video Games|          4|            0|          0|   N|                Y|          Four Stars|           Goodngame| 2015-08-31|\n",
            "+-----------+-----------+--------------+----------+--------------+--------------------+----------------+-----------+-------------+-----------+----+-----------------+--------------------+--------------------+-----------+\n",
            "only showing top 20 rows\n",
            "\n"
          ]
        }
      ]
    },
    {
      "cell_type": "markdown",
      "metadata": {
        "id": "JDIT_NZlzspN"
      },
      "source": [
        "### **Deliverable 2 Vine Paid/Unpaid**"
      ]
    },
    {
      "cell_type": "code",
      "metadata": {
        "colab": {
          "base_uri": "https://localhost:8080/"
        },
        "id": "GpoKBIRIsewJ",
        "outputId": "ee00350d-2a68-4e35-b42b-c1cb850dd6fa"
      },
      "source": [
        "vine_df = df.select(['review_id', 'helpful_votes', 'total_votes', 'vine', 'star_rating'])\n",
        "vine_df.show()"
      ],
      "execution_count": 21,
      "outputs": [
        {
          "output_type": "stream",
          "name": "stdout",
          "text": [
            "+--------------+-------------+-----------+----+-----------+\n",
            "|     review_id|helpful_votes|total_votes|vine|star_rating|\n",
            "+--------------+-------------+-----------+----+-----------+\n",
            "| RTIS3L2M1F5SM|            0|          0|   N|          5|\n",
            "| R1ZV7R40OLHKD|            0|          0|   N|          5|\n",
            "|R3BH071QLH8QMC|            0|          1|   N|          1|\n",
            "|R127K9NTSXA2YH|            0|          0|   N|          3|\n",
            "|R32ZWUXDJPW27Q|            0|          0|   N|          4|\n",
            "|R3AQQ4YUKJWBA6|            0|          0|   N|          1|\n",
            "|R2F0POU5K6F73F|            0|          0|   N|          5|\n",
            "|R3VNR804HYSMR6|            0|          0|   N|          5|\n",
            "| R3GZTM72WA2QH|            0|          0|   N|          5|\n",
            "| RNQOY62705W1K|            0|          0|   N|          4|\n",
            "|R1VTIA3JTYBY02|            0|          0|   N|          5|\n",
            "|R29DOU8791QZL8|            0|          0|   N|          1|\n",
            "|R15DUT1VIJ9RJZ|            0|          0|   N|          2|\n",
            "|R3IMF2MQ3OU9ZM|            0|          0|   N|          4|\n",
            "|R23H79DHOZTYAU|            1|          1|   N|          1|\n",
            "| RIV24EQAIXA4O|            0|          0|   N|          5|\n",
            "|R3UCNGYDVN24YB|            0|          0|   N|          5|\n",
            "| RUL4H4XTTN2DY|            0|          0|   N|          5|\n",
            "|R20JF7Z4DHTNX5|            0|          0|   N|          5|\n",
            "|R2T1AJ5MFI2260|            0|          0|   N|          4|\n",
            "+--------------+-------------+-----------+----+-----------+\n",
            "only showing top 20 rows\n",
            "\n"
          ]
        }
      ]
    },
    {
      "cell_type": "code",
      "metadata": {
        "colab": {
          "base_uri": "https://localhost:8080/"
        },
        "id": "a_iKLsxRsn2J",
        "outputId": "dff3c5b3-488c-4d46-ae68-df5d60e68666"
      },
      "source": [
        "#Total Votes greater than 20\n",
        "votes_20_df = vine_df.filter('total_votes >=20')\n",
        "votes_20_df.show()"
      ],
      "execution_count": 22,
      "outputs": [
        {
          "output_type": "stream",
          "name": "stdout",
          "text": [
            "+--------------+-------------+-----------+----+-----------+\n",
            "|     review_id|helpful_votes|total_votes|vine|star_rating|\n",
            "+--------------+-------------+-----------+----+-----------+\n",
            "| R4PKAZRQJJX14|           21|         34|   N|          1|\n",
            "|R2CI0Y288CC7E2|           21|         35|   N|          1|\n",
            "|R127WEQY2FM1T3|          147|        175|   N|          1|\n",
            "|R3EZ0EPYLDA34S|           14|         31|   N|          1|\n",
            "|R2FJ94555FZH32|           55|         60|   N|          2|\n",
            "|R1U3AR67RE273L|           51|         65|   N|          1|\n",
            "|R3PZOXA5X1U8KW|           31|         36|   N|          4|\n",
            "| R6KTC1OPIOIIG|           19|         34|   N|          2|\n",
            "|R36O341WWXXKNP|           28|         31|   N|          5|\n",
            "|R3GSK9MM8DNOYI|            4|         32|   N|          1|\n",
            "|R10LZVBLQHBVJ0|          151|        198|   N|          2|\n",
            "|R1VR5GLGY1GE7N|           49|         51|   N|          1|\n",
            "|R3GUUC6NT4QMCL|            5|         36|   N|          1|\n",
            "|R1ZSD020RT18I5|            7|        139|   N|          1|\n",
            "|R113X48B575ASY|           15|         45|   N|          1|\n",
            "| RJLYLGRYH7SFQ|           34|        116|   N|          1|\n",
            "|R2OWDAR0EDEPTF|           23|         28|   N|          1|\n",
            "|R3CICXKAHN6NUD|            0|         23|   N|          1|\n",
            "|R29BOS5HMAY1LO|           88|        110|   N|          5|\n",
            "| R8WD0136CETA7|           99|        119|   N|          2|\n",
            "+--------------+-------------+-----------+----+-----------+\n",
            "only showing top 20 rows\n",
            "\n"
          ]
        }
      ]
    },
    {
      "cell_type": "code",
      "metadata": {
        "colab": {
          "base_uri": "https://localhost:8080/"
        },
        "id": "OMdOTp0ItGPi",
        "outputId": "4757b601-f337-493b-c22b-b95113af0e1e"
      },
      "source": [
        "#Votes greater than 50% when dividing helpful votes and total votes\n",
        "votes_50_df = votes_20_df.filter(votes_20_df['helpful_votes']/votes_20_df['total_votes']>=0.5)\n",
        "votes_50_df.show()"
      ],
      "execution_count": 23,
      "outputs": [
        {
          "output_type": "stream",
          "name": "stdout",
          "text": [
            "+--------------+-------------+-----------+----+-----------+\n",
            "|     review_id|helpful_votes|total_votes|vine|star_rating|\n",
            "+--------------+-------------+-----------+----+-----------+\n",
            "| R4PKAZRQJJX14|           21|         34|   N|          1|\n",
            "|R2CI0Y288CC7E2|           21|         35|   N|          1|\n",
            "|R127WEQY2FM1T3|          147|        175|   N|          1|\n",
            "|R2FJ94555FZH32|           55|         60|   N|          2|\n",
            "|R1U3AR67RE273L|           51|         65|   N|          1|\n",
            "|R3PZOXA5X1U8KW|           31|         36|   N|          4|\n",
            "| R6KTC1OPIOIIG|           19|         34|   N|          2|\n",
            "|R36O341WWXXKNP|           28|         31|   N|          5|\n",
            "|R10LZVBLQHBVJ0|          151|        198|   N|          2|\n",
            "|R1VR5GLGY1GE7N|           49|         51|   N|          1|\n",
            "|R2OWDAR0EDEPTF|           23|         28|   N|          1|\n",
            "|R29BOS5HMAY1LO|           88|        110|   N|          5|\n",
            "| R8WD0136CETA7|           99|        119|   N|          2|\n",
            "|R16621F16PQN5A|           24|         31|   N|          3|\n",
            "|R1LXBPG1M9DDOC|          102|        106|   N|          1|\n",
            "| RNEMGSUKJ4535|           21|         25|   N|          2|\n",
            "|R3R2UKBFKP1IQ4|           19|         23|   N|          1|\n",
            "|R2T90XM5G2DBZA|           15|         22|   N|          3|\n",
            "| R5ZMK0Y0KRBRZ|           79|         91|   N|          1|\n",
            "|R12E2W0XOV3I2S|           24|         30|   N|          1|\n",
            "+--------------+-------------+-----------+----+-----------+\n",
            "only showing top 20 rows\n",
            "\n"
          ]
        }
      ]
    },
    {
      "cell_type": "code",
      "metadata": {
        "colab": {
          "base_uri": "https://localhost:8080/"
        },
        "id": "JNcpSkNcts36",
        "outputId": "2e990f61-dab1-418a-8f5e-891d954bfcba"
      },
      "source": [
        "# Vine Review Program = Yes\n",
        "vine_votes_df = votes_50_df.filter(votes_50_df['vine'] == 'Y')\n",
        "vine_votes_df.show()"
      ],
      "execution_count": 24,
      "outputs": [
        {
          "output_type": "stream",
          "name": "stdout",
          "text": [
            "+--------------+-------------+-----------+----+-----------+\n",
            "|     review_id|helpful_votes|total_votes|vine|star_rating|\n",
            "+--------------+-------------+-----------+----+-----------+\n",
            "|R3KKUSGFZWSUIY|           56|         63|   Y|          5|\n",
            "|R10FO5UKKVZBK2|           23|         23|   Y|          3|\n",
            "| RM4KSGEOR7MU1|           19|         24|   Y|          5|\n",
            "| RG7VRMYLEXD23|           22|         26|   Y|          4|\n",
            "|R11O4YSCPSNL6L|           20|         26|   Y|          3|\n",
            "|R286MFBAJ8NPD6|           46|         51|   Y|          5|\n",
            "|R1JRR530H4COA2|           22|         28|   Y|          5|\n",
            "| RQ5WD90PUNBU9|           21|         24|   Y|          5|\n",
            "|R12648VHCQWUV9|           21|         28|   Y|          4|\n",
            "|R3KAW29CJ8L6DQ|           17|         20|   Y|          5|\n",
            "|R1OWK33OPI45KT|           55|         58|   Y|          5|\n",
            "|R2UP7VTED8O425|           35|         41|   Y|          5|\n",
            "|R3N4QAXTQCA1ED|           18|         20|   Y|          5|\n",
            "|R3EPHK0JGQGE91|           21|         28|   Y|          5|\n",
            "| RCP3KRO47S0GG|           51|         58|   Y|          4|\n",
            "|R3JT907UUA1WUI|           85|        103|   Y|          4|\n",
            "| RY0555ILXIYXW|           38|         50|   Y|          5|\n",
            "|R24PS9N276OXF4|          241|        262|   Y|          5|\n",
            "|R3R0F8ETAGTIOT|           14|         20|   Y|          5|\n",
            "| ROXZOMHBY8Y9S|           21|         23|   Y|          4|\n",
            "+--------------+-------------+-----------+----+-----------+\n",
            "only showing top 20 rows\n",
            "\n"
          ]
        }
      ]
    },
    {
      "cell_type": "code",
      "metadata": {
        "colab": {
          "base_uri": "https://localhost:8080/"
        },
        "id": "w78i1fNxuEhv",
        "outputId": "82c00e15-7fe5-4d52-8ef8-3c7e943ad10e"
      },
      "source": [
        "# Vine Review Program = No\n",
        "novine_votes_df = votes_50_df.filter(votes_50_df['vine'] == 'N')\n",
        "novine_votes_df.show()"
      ],
      "execution_count": 25,
      "outputs": [
        {
          "output_type": "stream",
          "name": "stdout",
          "text": [
            "+--------------+-------------+-----------+----+-----------+\n",
            "|     review_id|helpful_votes|total_votes|vine|star_rating|\n",
            "+--------------+-------------+-----------+----+-----------+\n",
            "| R4PKAZRQJJX14|           21|         34|   N|          1|\n",
            "|R2CI0Y288CC7E2|           21|         35|   N|          1|\n",
            "|R127WEQY2FM1T3|          147|        175|   N|          1|\n",
            "|R2FJ94555FZH32|           55|         60|   N|          2|\n",
            "|R1U3AR67RE273L|           51|         65|   N|          1|\n",
            "|R3PZOXA5X1U8KW|           31|         36|   N|          4|\n",
            "| R6KTC1OPIOIIG|           19|         34|   N|          2|\n",
            "|R36O341WWXXKNP|           28|         31|   N|          5|\n",
            "|R10LZVBLQHBVJ0|          151|        198|   N|          2|\n",
            "|R1VR5GLGY1GE7N|           49|         51|   N|          1|\n",
            "|R2OWDAR0EDEPTF|           23|         28|   N|          1|\n",
            "|R29BOS5HMAY1LO|           88|        110|   N|          5|\n",
            "| R8WD0136CETA7|           99|        119|   N|          2|\n",
            "|R16621F16PQN5A|           24|         31|   N|          3|\n",
            "|R1LXBPG1M9DDOC|          102|        106|   N|          1|\n",
            "| RNEMGSUKJ4535|           21|         25|   N|          2|\n",
            "|R3R2UKBFKP1IQ4|           19|         23|   N|          1|\n",
            "|R2T90XM5G2DBZA|           15|         22|   N|          3|\n",
            "| R5ZMK0Y0KRBRZ|           79|         91|   N|          1|\n",
            "|R12E2W0XOV3I2S|           24|         30|   N|          1|\n",
            "+--------------+-------------+-----------+----+-----------+\n",
            "only showing top 20 rows\n",
            "\n"
          ]
        }
      ]
    },
    {
      "cell_type": "code",
      "metadata": {
        "colab": {
          "base_uri": "https://localhost:8080/"
        },
        "id": "6dV2fvT8uzCb",
        "outputId": "8843c7d9-6fb2-4a8a-a39e-d2ac30cbc512"
      },
      "source": [
        "#Paid Vote Counts\n",
        "\n",
        "paid_vote_count = vine_votes_df.count()\n",
        "paid_vote_count"
      ],
      "execution_count": 26,
      "outputs": [
        {
          "output_type": "execute_result",
          "data": {
            "text/plain": [
              "94"
            ]
          },
          "metadata": {},
          "execution_count": 26
        }
      ]
    },
    {
      "cell_type": "code",
      "metadata": {
        "colab": {
          "base_uri": "https://localhost:8080/"
        },
        "id": "rB3JhHkkvDWB",
        "outputId": "b708871c-f926-4e39-8800-2924a977cb0c"
      },
      "source": [
        "#Not Paid Vote Counts\n",
        "\n",
        "not_paid_vote_count = novine_votes_df.count()\n",
        "not_paid_vote_count"
      ],
      "execution_count": 27,
      "outputs": [
        {
          "output_type": "execute_result",
          "data": {
            "text/plain": [
              "40471"
            ]
          },
          "metadata": {},
          "execution_count": 27
        }
      ]
    },
    {
      "cell_type": "code",
      "metadata": {
        "colab": {
          "base_uri": "https://localhost:8080/"
        },
        "id": "kYooZGzIvbOy",
        "outputId": "63332885-2302-4189-caf9-7a494bd88521"
      },
      "source": [
        "# 5 star reviews = Vine -> Yes\n",
        "fivestar_paid_reviews = vine_votes_df.filter(vine_votes_df['star_rating']== 5) \n",
        "fivestar_paid_reviews.count()"
      ],
      "execution_count": 30,
      "outputs": [
        {
          "output_type": "execute_result",
          "data": {
            "text/plain": [
              "48"
            ]
          },
          "metadata": {},
          "execution_count": 30
        }
      ]
    },
    {
      "cell_type": "code",
      "metadata": {
        "colab": {
          "base_uri": "https://localhost:8080/"
        },
        "id": "oKG_6hrwyO4C",
        "outputId": "0fee1fa8-5032-43dd-a943-cf5718daa064"
      },
      "source": [
        "# 5 star reviews = Vine -> No\n",
        "fivestar_unpaid_reviews = novine_votes_df.filter(novine_votes_df['star_rating']== 5)\n",
        "fivestar_unpaid_reviews.count()"
      ],
      "execution_count": 32,
      "outputs": [
        {
          "output_type": "execute_result",
          "data": {
            "text/plain": [
              "15663"
            ]
          },
          "metadata": {},
          "execution_count": 32
        }
      ]
    },
    {
      "cell_type": "code",
      "metadata": {
        "colab": {
          "base_uri": "https://localhost:8080/"
        },
        "id": "JDJl3WmPyol1",
        "outputId": "358911fa-3242-4b49-a0a4-be4548890692"
      },
      "source": [
        "#Percentage 5 star reviews Vine -> Yes\n",
        "\n",
        "fivestar_percentage_total = fivestar_paid_reviews.count()/paid_vote_count\n",
        "fivestar_percentage_total"
      ],
      "execution_count": 35,
      "outputs": [
        {
          "output_type": "execute_result",
          "data": {
            "text/plain": [
              "0.5106382978723404"
            ]
          },
          "metadata": {},
          "execution_count": 35
        }
      ]
    },
    {
      "cell_type": "code",
      "metadata": {
        "colab": {
          "base_uri": "https://localhost:8080/"
        },
        "id": "gKF5SMWIzJ9f",
        "outputId": "2bfc258d-18cc-4dd9-9993-107207caa603"
      },
      "source": [
        "#Percentage 5 star reviews Vine -> No\n",
        "\n",
        "unpaid_fivestar_percentage_total = fivestar_unpaid_reviews.count()/not_paid_vote_count\n",
        "unpaid_fivestar_percentage_total"
      ],
      "execution_count": 37,
      "outputs": [
        {
          "output_type": "execute_result",
          "data": {
            "text/plain": [
              "0.38701786464381904"
            ]
          },
          "metadata": {},
          "execution_count": 37
        }
      ]
    }
  ]
}